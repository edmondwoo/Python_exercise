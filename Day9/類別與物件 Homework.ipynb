{
 "cells": [
  {
   "cell_type": "markdown",
   "metadata": {
    "colab_type": "text",
    "id": "P6xk2_jLsvFF"
   },
   "source": [
    "# [作業目標]\n",
    "\n",
    "1. 請問以下程式輸出為何？\n",
    "\n",
    "```\n",
    "class MyClass: \n",
    "    count = [0] # shared\n",
    "    def __init__(self, name):\n",
    "        self.name = name # uniuqe\n",
    "        self.count[0] += 1\n",
    "    def f(self): \n",
    "        return 'hello %s' % (self.name)\n",
    "x = MyClass('X')\n",
    "print(x.f(), x.count)\n",
    "y = MyClass('Y')\n",
    "print(y.f(), y.count\n",
    "```\n",
    "\n",
    "2. 建立一個 Student 的類別，要包含姓名、性別、年齡，和修改資料的成員函式。利用上述建立的類別，宣告幾個 Student 物件，並放到一個列表存放。\n",
    "\n",
    "\n",
    "\n",
    "\n"
   ]
  },
  {
   "cell_type": "markdown",
   "metadata": {
    "colab_type": "text",
    "id": "uXGll28asvFS"
   },
   "source": [
    "# 作業 "
   ]
  },
  {
   "cell_type": "markdown",
   "metadata": {},
   "source": [
    "### 1. 請問以下程式輸出為何？\n",
    "\n",
    "```\n",
    "class MyClass: \n",
    "    count = [0] # shared\n",
    "    def __init__(self, name):\n",
    "        self.name = name # uniuqe\n",
    "        self.count[0] += 1\n",
    "    def f(self): \n",
    "        return 'hello %s' % (self.name)\n",
    "x = MyClass('X')\n",
    "print(x.f(), x.count)\n",
    "y = MyClass('Y')\n",
    "print(y.f(), y.count\n",
    "```\n"
   ]
  },
  {
   "cell_type": "code",
   "execution_count": 4,
   "metadata": {
    "colab": {},
    "colab_type": "code",
    "id": "5QrYoyNWsvFS"
   },
   "outputs": [
    {
     "name": "stdout",
     "output_type": "stream",
     "text": [
      "hello X [1]\n",
      "hello Y [2]\n"
     ]
    }
   ],
   "source": [
    "class MyClass:\n",
    "    count = [0] # shared\n",
    "    def __init__(self, name):\n",
    "        self.name = name # uniuqe\n",
    "        self.count[0] += 1\n",
    "    def f(self):\n",
    "        return 'hello %s' % (self.name)\n",
    "x = MyClass('X')\n",
    "print(x.f(), x.count)\n",
    "y = MyClass('Y')\n",
    "print(y.f(), y.count)"
   ]
  },
  {
   "cell_type": "markdown",
   "metadata": {},
   "source": [
    "### 2.  建立一個 Student 的類別，要包含姓名、性別、年齡，和修改資料的成員函式。利用上述建立的類別，宣告幾個 Student 物件，並放到一個列表存放。\n",
    "\n",
    "\n"
   ]
  },
  {
   "cell_type": "code",
   "execution_count": 5,
   "metadata": {
    "colab": {},
    "colab_type": "code",
    "id": "e1gVI0tvsvFY",
    "scrolled": false
   },
   "outputs": [
    {
     "name": "stdout",
     "output_type": "stream",
     "text": [
      "[<__main__.Student object at 0x7fbad9db4ca0>, <__main__.Student object at 0x7fbad9db4940>]\n"
     ]
    }
   ],
   "source": [
    "class Student:\n",
    "    def __init__(self,name,sex,age):\n",
    "            self.name = name\n",
    "            self.sex = sex\n",
    "            self.age = age\n",
    "    def setName(self,name):\n",
    "        self.name = name\n",
    "    def setSex(self,sex):\n",
    "        self.sex = sex\n",
    "    def setAge(self,age):\n",
    "        self.age = age\n",
    "\n",
    "Edmond = Student(\"Edmond\",\"M\",25)\n",
    "Rachel = Student(\"Rachel\",\"F\",20)\n",
    "\n",
    "student = [Edmond, Rachel]\n",
    "\n",
    "print(student)"
   ]
  }
 ],
 "metadata": {
  "colab": {
   "name": "Day_023_HW.ipynb",
   "provenance": []
  },
  "kernelspec": {
   "display_name": "Python 3",
   "language": "python",
   "name": "python3"
  },
  "language_info": {
   "codemirror_mode": {
    "name": "ipython",
    "version": 3
   },
   "file_extension": ".py",
   "mimetype": "text/x-python",
   "name": "python",
   "nbconvert_exporter": "python",
   "pygments_lexer": "ipython3",
   "version": "3.6.5"
  }
 },
 "nbformat": 4,
 "nbformat_minor": 1
}